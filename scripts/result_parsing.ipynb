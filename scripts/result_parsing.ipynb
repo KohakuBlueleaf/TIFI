{
 "cells": [
  {
   "cell_type": "code",
   "execution_count": 5,
   "metadata": {},
   "outputs": [],
   "source": [
    "import os\n",
    "import re\n",
    "\n",
    "import numpy as np"
   ]
  },
  {
   "cell_type": "code",
   "execution_count": 6,
   "metadata": {},
   "outputs": [],
   "source": [
    "file_path = \"results.txt\"\n",
    "\n",
    "for file_name in (i for i in os.listdir(\"../eval_out\") if i.endswith(\".txt\")):\n",
    "    file_path = os.path.join(\"../eval_out\", file_name)\n",
    "    num = np.zeros(0, str)\n",
    "    tifi = np.zeros((0, 4), str)\n",
    "    opti = np.zeros((0, 4), str)\n",
    "    removed = np.zeros(0, str)\n",
    "\n",
    "    with open(file_path) as file:\n",
    "        lines = file.readlines()\n",
    "\n",
    "    for i in range(0, len(lines), 4):\n",
    "        num = np.append(num, re.findall(r\"\\b\\d+\\_\\d+\\b\", lines[i]))\n",
    "        tmp = re.findall(r\"\\[\\d+(?:, \\d+)*\\]\", lines[i])\n",
    "        removed = np.append(removed, [s.replace(\",\", \" \") for s in tmp])\n",
    "        a = re.findall(r\"\\b\\d+\\.\\d+\\b\", lines[i + 1])\n",
    "        tifi = np.append(tifi, np.array(a).reshape((1, 4)), axis=0)\n",
    "        opti = np.append(\n",
    "            opti,\n",
    "            np.array(re.findall(r\"\\b\\d+\\.\\d+\\b\", lines[i + 2])).reshape((1, 4)),\n",
    "            axis=0,\n",
    "        )\n",
    "\n",
    "    result = np.concatenate(\n",
    "        (num.reshape((480, 1)), removed.reshape((480, 1)), tifi, opti), axis=1\n",
    "    )\n",
    "    np.savetxt(\n",
    "        os.path.join(\"../eval_out\", file_name.replace(\".txt\", \".csv\")),\n",
    "        result,\n",
    "        delimiter=\",\",\n",
    "        fmt=\"%s\",\n",
    "    )"
   ]
  }
 ],
 "metadata": {
  "kernelspec": {
   "display_name": "base",
   "language": "python",
   "name": "python3"
  },
  "language_info": {
   "codemirror_mode": {
    "name": "ipython",
    "version": 3
   },
   "file_extension": ".py",
   "mimetype": "text/x-python",
   "name": "python",
   "nbconvert_exporter": "python",
   "pygments_lexer": "ipython3",
   "version": "3.11.7"
  }
 },
 "nbformat": 4,
 "nbformat_minor": 2
}
